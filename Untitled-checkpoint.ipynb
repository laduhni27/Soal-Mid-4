{
 "cells": [
  {
   "cell_type": "code",
   "execution_count": 2,
   "id": "0966fa38",
   "metadata": {},
   "outputs": [
    {
     "name": "stdout",
     "output_type": "stream",
     "text": [
      "KONVERSI HARI,JAM,MENIT,DETIK\n",
      "masukkan Detik : 10\n",
      "jam :  0.002777777777777778\n",
      "menit :  0.16666666666666666\n",
      "detik :  10\n"
     ]
    }
   ],
   "source": [
    "print(\"KONVERSI HARI,JAM,MENIT,DETIK\")\n",
    "\n",
    "n = int(input(\"masukkan Detik : \"))\n",
    "jam = n / 3600\n",
    "sisa = n % 3600\n",
    "menit = sisa / 60\n",
    "detik = sisa % 60 \n",
    "\n",
    "print(\"jam : \",jam)\n",
    "print(\"menit : \",menit)\n",
    "print(\"detik : \",detik)"
   ]
  },
  {
   "cell_type": "code",
   "execution_count": null,
   "id": "36bc7eca",
   "metadata": {},
   "outputs": [],
   "source": []
  }
 ],
 "metadata": {
  "kernelspec": {
   "display_name": "Python 3",
   "language": "python",
   "name": "python3"
  },
  "language_info": {
   "codemirror_mode": {
    "name": "ipython",
    "version": 3
   },
   "file_extension": ".py",
   "mimetype": "text/x-python",
   "name": "python",
   "nbconvert_exporter": "python",
   "pygments_lexer": "ipython3",
   "version": "3.8.8"
  }
 },
 "nbformat": 4,
 "nbformat_minor": 5
}
